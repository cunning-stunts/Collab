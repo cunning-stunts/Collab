{
  "nbformat": 4,
  "nbformat_minor": 0,
  "metadata": {
    "colab": {
      "name": "training.ipynb",
      "version": "0.3.2",
      "provenance": [],
      "collapsed_sections": [],
      "include_colab_link": true
    },
    "kernelspec": {
      "name": "python3",
      "display_name": "Python 3"
    },
    "accelerator": "TPU"
  },
  "cells": [
    {
      "cell_type": "markdown",
      "metadata": {
        "id": "view-in-github",
        "colab_type": "text"
      },
      "source": [
        "<a href=\"https://colab.research.google.com/github/cunning-stunts/Collab/blob/master/training.ipynb\" target=\"_parent\"><img src=\"https://colab.research.google.com/assets/colab-badge.svg\" alt=\"Open In Colab\"/></a>"
      ]
    },
    {
      "cell_type": "markdown",
      "metadata": {
        "id": "rasOe6jNJbFj",
        "colab_type": "text"
      },
      "source": [
        "# How to train a ResNet50 on RxRx1 using TPUs \n",
        "\n",
        "Colaboratory makes it easy to train models using [Cloud TPUs](https://cloud.google.com/tpu/), and this notebook demonstrates how to use the code in [rxrx1-utils](https://github.com/recursionpharma/rxrx1-utils) to train ResNet50 on the RxRx1 image set using Colab TPU.\n",
        "\n",
        "Be sure to select the TPU runtime before beginning!"
      ]
    },
    {
      "cell_type": "code",
      "metadata": {
        "id": "cKtZctcXJTAZ",
        "colab_type": "code",
        "colab": {}
      },
      "source": [
        "import json\n",
        "import os\n",
        "import sys\n",
        "import tensorflow as tf"
      ],
      "execution_count": 0,
      "outputs": []
    },
    {
      "cell_type": "code",
      "metadata": {
        "id": "LNgr17uD0K--",
        "colab_type": "code",
        "outputId": "89547499-3b87-4621-dc04-bcebb6ed6dd4",
        "colab": {
          "base_uri": "https://localhost:8080/",
          "height": 276
        }
      },
      "source": [
        "if 'google.colab' in sys.modules:\n",
        "    !git clone https://github.com/recursionpharma/rxrx1-utils\n",
        "    sys.path.append('/content/rxrx1-utils')\n",
        "\n",
        "    from google.colab import auth\n",
        "    auth.authenticate_user()\n",
        "    \n",
        "from rxrx.main import main"
      ],
      "execution_count": 0,
      "outputs": [
        {
          "output_type": "stream",
          "text": [
            "Cloning into 'rxrx1-utils'...\n",
            "remote: Enumerating objects: 118, done.\u001b[K\n",
            "remote: Total 118 (delta 0), reused 0 (delta 0), pack-reused 118\u001b[K\n",
            "Receiving objects: 100% (118/118), 1.59 MiB | 9.13 MiB/s, done.\n",
            "Resolving deltas: 100% (59/59), done.\n"
          ],
          "name": "stdout"
        },
        {
          "output_type": "stream",
          "text": [
            "WARNING: Logging before flag parsing goes to stderr.\n",
            "W0728 19:27:31.382244 140184717584256 lazy_loader.py:50] \n",
            "The TensorFlow contrib module will not be included in TensorFlow 2.0.\n",
            "For more information, please see:\n",
            "  * https://github.com/tensorflow/community/blob/master/rfcs/20180907-contrib-sunset.md\n",
            "  * https://github.com/tensorflow/addons\n",
            "  * https://github.com/tensorflow/io (for I/O related ops)\n",
            "If you depend on functionality not listed there, please file an issue.\n",
            "\n"
          ],
          "name": "stderr"
        }
      ]
    },
    {
      "cell_type": "markdown",
      "metadata": {
        "colab_type": "text",
        "id": "HrPeVFofzIdy"
      },
      "source": [
        "## Train\n",
        "\n",
        "Set `MODEL_DIR` to be a Google Cloud Storage bucket that you can write to.   The code will write your checkpoins to this directory."
      ]
    },
    {
      "cell_type": "code",
      "metadata": {
        "id": "Z9MjRJpwJTAw",
        "colab_type": "code",
        "colab": {}
      },
      "source": [
        "MODEL_DIR = 'gs://cunning_stunts_ml'\n",
        "URL_BASE_PATH = 'gs://rxrx1-us-central1/tfrecords/random-42'\n",
        "\n",
        "# make sure we're in a TPU runtime\n",
        "assert 'COLAB_TPU_ADDR' in os.environ\n",
        "\n",
        "# set TPU-relevant args\n",
        "tpu_grpc = 'grpc://{}'.format(os.environ['COLAB_TPU_ADDR'])\n",
        "num_shards = 8  # colab uses Cloud TPU v2-8\n",
        "\n",
        "# upload credentials to the TPU\n",
        "with tf.Session(tpu_grpc) as sess:\n",
        "    data = json.load(open('/content/adc.json'))\n",
        "    tf.contrib.cloud.configure_gcs(sess, credentials=data)\n",
        "\n",
        "tf.logging.set_verbosity(tf.logging.INFO)\n",
        "\n",
        "main(use_tpu=True,\n",
        "     tpu=tpu_grpc,\n",
        "     gcp_project=None,\n",
        "     tpu_zone=None,\n",
        "     url_base_path=URL_BASE_PATH,\n",
        "     use_cache=False,\n",
        "     model_dir=MODEL_DIR,\n",
        "     train_epochs=1,\n",
        "     train_batch_size=512,\n",
        "     num_train_images=73030,\n",
        "     epochs_per_loop=1,\n",
        "     log_step_count_epochs=1,\n",
        "     num_cores=num_shards,\n",
        "     data_format='channels_last',\n",
        "     transpose_input=True,\n",
        "     tf_precision='bfloat16',\n",
        "     n_classes=1108,\n",
        "     momentum=0.9,\n",
        "     weight_decay=1e-4,\n",
        "     base_learning_rate=0.2,\n",
        "     warmup_epochs=5)"
      ],
      "execution_count": 0,
      "outputs": []
    }
  ]
}
